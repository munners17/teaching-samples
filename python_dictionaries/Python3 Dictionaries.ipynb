{
 "cells": [
  {
   "cell_type": "markdown",
   "metadata": {},
   "source": [
    "# Dictionary Exercise"
   ]
  },
  {
   "cell_type": "code",
   "execution_count": 7,
   "metadata": {
    "collapsed": false
   },
   "outputs": [
    {
     "name": "stdout",
     "output_type": "stream",
     "text": [
      "X\n",
      "O\n",
      "X\n",
      "O\n"
     ]
    }
   ],
   "source": [
    "i = 4\n",
    "j  = 4\n",
    "while i > 0:\n",
    "    while j > 0:\n",
    "        if j % 2 == 0:\n",
    "            print('X')\n",
    "        else:\n",
    "            print('O')\n",
    "        j = j - 1\n",
    "    i = i - 1\n",
    "        "
   ]
  },
  {
   "cell_type": "markdown",
   "metadata": {},
   "source": [
    "### Creating State Abbreviation Lookup"
   ]
  },
  {
   "cell_type": "code",
   "execution_count": 4,
   "metadata": {
    "collapsed": true
   },
   "outputs": [],
   "source": [
    "# create a mapping of state to abbreviation\n",
    "states = {\n",
    "    'Oregon': 'OR',\n",
    "    'Florida': 'FL',\n",
    "    'California': 'CA',\n",
    "    'New York': 'NY',\n",
    "    'Michigan': 'MI'\n",
    "}"
   ]
  },
  {
   "cell_type": "markdown",
   "metadata": {},
   "source": [
    "### Add some cities"
   ]
  },
  {
   "cell_type": "code",
   "execution_count": 5,
   "metadata": {
    "collapsed": true
   },
   "outputs": [],
   "source": [
    "# create a basic set of states and some cities in them\n",
    "cities = {\n",
    "    'CA': ['San Francisco' ,'Los Angeles'],\n",
    "    'MI': 'Detroit',\n",
    "    'FL': 'Jacksonville'\n",
    "}\n",
    "\n",
    "# add some more cities\n",
    "cities['NY'] = ['New York', 'Buffalo']\n",
    "cities['OR'] = 'Portland'"
   ]
  },
  {
   "cell_type": "markdown",
   "metadata": {},
   "source": [
    "### Print some cities"
   ]
  },
  {
   "cell_type": "code",
   "execution_count": 6,
   "metadata": {
    "collapsed": false
   },
   "outputs": [
    {
     "name": "stdout",
     "output_type": "stream",
     "text": [
      "----------\n",
      "NY State has:  ['New York', 'Buffalo']\n",
      "OR State has:  Portland\n",
      "----------\n",
      "Michigan's abbreviation is:  MI\n",
      "Florida's abbreviation is:  FL\n",
      "----------\n",
      "Michigan has:  Detroit\n",
      "Florida has:  Jacksonville\n",
      "----------\n",
      "Florida is abbreviated FL\n",
      "Michigan is abbreviated MI\n",
      "Oregon is abbreviated OR\n",
      "New York is abbreviated NY\n",
      "California is abbreviated CA\n",
      "----------\n",
      "OR has the city Portland\n",
      "FL has the city Jacksonville\n",
      "CA has the city ['San Francisco', 'Los Angeles']\n",
      "MI has the city Detroit\n",
      "NY has the city ['New York', 'Buffalo']\n",
      "----------\n",
      "Florida state is abbreviated FL and has city Jacksonville\n",
      "Michigan state is abbreviated MI and has city Detroit\n",
      "Oregon state is abbreviated OR and has city Portland\n",
      "New York state is abbreviated NY and has city ['New York', 'Buffalo']\n",
      "California state is abbreviated CA and has city ['San Francisco', 'Los Angeles']\n",
      "----------\n",
      "Sorry, no Texas.\n",
      "The city for the state 'TX' is: Does Not Exist\n"
     ]
    }
   ],
   "source": [
    "# print out some cities\n",
    "print ('-' * 10)\n",
    "print (\"NY State has: \", cities['NY'])\n",
    "print (\"OR State has: \", cities['OR'])\n",
    "\n",
    "# print some states\n",
    "print ('-' * 10)\n",
    "print (\"Michigan's abbreviation is: \", states['Michigan'])\n",
    "print (\"Florida's abbreviation is: \", states['Florida'])\n",
    "\n",
    "# do it by using the state then cities dict\n",
    "print ('-' * 10)\n",
    "print (\"Michigan has: \", cities[states['Michigan']])\n",
    "print (\"Florida has: \", cities[states['Florida']])\n",
    "\n",
    "# print every state abbreviation\n",
    "print ('-' * 10)\n",
    "for state, abbrev in states.items():\n",
    "    print (\"%s is abbreviated %s\" % (state, abbrev))\n",
    "\n",
    "# print every city in state\n",
    "print ('-' * 10)\n",
    "for abbrev, city in cities.items():\n",
    "    print (\"%s has the city %s\" % (abbrev, city))\n",
    "\n",
    "# now do both at the same time\n",
    "print ('-' * 10)\n",
    "for state, abbrev in states.items():\n",
    "    print (\"%s state is abbreviated %s and has city %s\" % (\n",
    "        state, abbrev, cities[abbrev]))\n",
    "\n",
    "print ('-' * 10)\n",
    "# safely get a abbreviation by state that might not be there\n",
    "state = states.get('Texas')\n",
    "\n",
    "if not state:\n",
    "    print (\"Sorry, no Texas.\")\n",
    "\n",
    "# get a city with a default value\n",
    "city = cities.get('TX', 'Does Not Exist')\n",
    "print (\"The city for the state 'TX' is: %s\" % city)"
   ]
  },
  {
   "cell_type": "code",
   "execution_count": null,
   "metadata": {
    "collapsed": true
   },
   "outputs": [],
   "source": []
  }
 ],
 "metadata": {
  "kernelspec": {
   "display_name": "Python 3",
   "language": "python",
   "name": "python3"
  },
  "language_info": {
   "codemirror_mode": {
    "name": "ipython",
    "version": 3
   },
   "file_extension": ".py",
   "mimetype": "text/x-python",
   "name": "python",
   "nbconvert_exporter": "python",
   "pygments_lexer": "ipython3",
   "version": "3.5.1"
  }
 },
 "nbformat": 4,
 "nbformat_minor": 0
}
